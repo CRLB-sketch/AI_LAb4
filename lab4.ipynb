{
 "cells": [
  {
   "attachments": {},
   "cell_type": "markdown",
   "metadata": {},
   "source": [
    "Laboratorio 4 - Modelo de Regresión Logística Polinomial\n",
    "\n",
    "By Cristian Laynez - 201281"
   ]
  },
  {
   "attachments": {},
   "cell_type": "markdown",
   "metadata": {},
   "source": [
    "El objetivo de este laboratorio es crear un modelo de regresión logística polinomial que prediga fielmente si un paciente sufrirá de un paro cardíaco.\n",
    "\n",
    "\n",
    "Información Extra: \n",
    "para la data set proveida donde se muestran las condiciones físicas y contextuales para más de 4000 pacientes de enfermedades cardíacas. El dataset relaciona a cada paciente con una etiqueta (1 = tuvo un paro cardíaco, 0 = no tuvo paro cardíaco)"
   ]
  },
  {
   "cell_type": "code",
   "execution_count": null,
   "metadata": {
    "vscode": {
     "languageId": "plaintext"
    }
   },
   "outputs": [],
   "source": [
    "Task 1.1 - Leer archivo proporcionado y almacenarlo en un np.array"
   ]
  },
  {
   "attachments": {},
   "cell_type": "markdown",
   "metadata": {},
   "source": [
    "Task 1.2 - Ajustar modelo logístico polinomial (Tomando en cuenta la variable dependietne de salida [sufre o no subre un paro cardíaco])"
   ]
  },
  {
   "attachments": {},
   "cell_type": "markdown",
   "metadata": {},
   "source": [
    "Task 1.3 - Utilizar implementación vectorial del algoritmo de regresioń logística"
   ]
  },
  {
   "attachments": {},
   "cell_type": "markdown",
   "metadata": {},
   "source": [
    "Task 1.4 - Determinar el grado del polinomio que mejor describe la nube de puntos (cross-validation)"
   ]
  },
  {
   "attachments": {},
   "cell_type": "markdown",
   "metadata": {},
   "source": [
    "Task 1.5 - Análisis sobre sus hallazgos"
   ]
  }
 ],
 "metadata": {
  "language_info": {
   "name": "python"
  },
  "orig_nbformat": 4
 },
 "nbformat": 4,
 "nbformat_minor": 2
}
